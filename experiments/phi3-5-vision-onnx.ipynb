{
 "cells": [
  {
   "cell_type": "markdown",
   "id": "ec7d0758-04aa-4f84-9377-38fe3c6f019a",
   "metadata": {
    "tags": []
   },
   "source": [
    "# Run the Phi-3 vision and Phi-3.5 vision models with the ONNX Runtime generate API"
   ]
  },
  {
   "cell_type": "code",
   "execution_count": 1,
   "id": "49896a31-518d-47d2-84b3-14091177482e",
   "metadata": {
    "tags": []
   },
   "outputs": [
    {
     "name": "stdout",
     "output_type": "stream",
     "text": [
      "/mnt/batch/tasks/shared/LS_root/mounts/clusters/felattaoui-a100-gpu/code/test-phi-3-vision\n"
     ]
    }
   ],
   "source": [
    "!pwd"
   ]
  },
  {
   "cell_type": "code",
   "execution_count": 2,
   "id": "b9eb36a0-4b13-4963-ad52-1b15cc4b6463",
   "metadata": {
    "tags": []
   },
   "outputs": [
    {
     "name": "stdout",
     "output_type": "stream",
     "text": [
      "__pycache__\tinvoice_table.png\t    requirements.txt\n",
      "cat.jpg\t\tphi3-5-vision-cpu-hf.ipynb  savanna.jpg\n",
      "cpu_and_mobile\tphi3-5-vision-gpu.ipynb     table.png\n",
      "diagram.png\tphi3-5-vision-onnx.ipynb    test_invoice.png\n",
      "gpu\t\tphi3v.py\n"
     ]
    }
   ],
   "source": [
    "!ls"
   ]
  },
  {
   "cell_type": "code",
   "execution_count": 3,
   "id": "c3d99988-43f5-460c-8b2b-d20c54be9e63",
   "metadata": {
    "tags": []
   },
   "outputs": [],
   "source": [
    "# Copyright (c) Microsoft Corporation. All rights reserved.\n",
    "# Licensed under the MIT License\n",
    "\n",
    "import argparse\n",
    "import os\n",
    "import glob\n",
    "import time\n",
    "from pathlib import Path\n",
    "\n",
    "import onnxruntime_genai as og"
   ]
  },
  {
   "cell_type": "code",
   "execution_count": 4,
   "id": "699a7fa4-7226-4f27-a132-54cd2b9ec026",
   "metadata": {
    "tags": []
   },
   "outputs": [
    {
     "name": "stdout",
     "output_type": "stream",
     "text": [
      "/mnt/batch/tasks/shared/LS_root/mounts/clusters/felattaoui-a100-gpu/code/test-phi-3-vision\n"
     ]
    }
   ],
   "source": [
    "!pwd"
   ]
  },
  {
   "cell_type": "code",
   "execution_count": 5,
   "id": "89b6bdc8-0cca-4029-b50b-980d22d21662",
   "metadata": {
    "tags": []
   },
   "outputs": [
    {
     "name": "stdout",
     "output_type": "stream",
     "text": [
      "cpu_and_mobile/cpu-int4-rtn-block-32-acc-level-4/:\n",
      "genai_config.json\t\t\tphi-3.5-v-instruct-vision.onnx.data\n",
      "phi-3.5-v-instruct-embedding.onnx\tprocessor_config.json\n",
      "phi-3.5-v-instruct-embedding.onnx.data\tspecial_tokens_map.json\n",
      "phi-3.5-v-instruct-text.onnx\t\ttokenizer.json\n",
      "phi-3.5-v-instruct-text.onnx.data\ttokenizer_config.json\n",
      "phi-3.5-v-instruct-vision.onnx\n"
     ]
    }
   ],
   "source": [
    "!ls -R cpu_and_mobile/cpu-int4-rtn-block-32-acc-level-4/"
   ]
  },
  {
   "cell_type": "code",
   "execution_count": null,
   "id": "147cc218-4897-4df5-a2b9-afc6cd07241c",
   "metadata": {},
   "outputs": [
    {
     "name": "stdout",
     "output_type": "stream",
     "text": [
      "Loading model...\n",
      "Model loaded\n"
     ]
    },
    {
     "name": "stdin",
     "output_type": "stream",
     "text": [
      "Image Path (comma separated; leave empty if no image):  ./invoice_table.png\n"
     ]
    },
    {
     "name": "stdout",
     "output_type": "stream",
     "text": [
      "Using image: ./invoice_table.png\n"
     ]
    },
    {
     "name": "stdin",
     "output_type": "stream",
     "text": [
      "Prompt:  please extract the table in a markdown format\n"
     ]
    },
    {
     "name": "stdout",
     "output_type": "stream",
     "text": [
      "Processing images and prompt...\n",
      "Generating response...\n",
      "```markdown\n",
      "| ID | Delivery Date       | Service Type | Advertised Product/Campaign Description | Key No./Ref | Mast/Location | Program/Section | Spot/Page | Format Size/Type | Charge | Gross | Rebate | Net | GST | Total |\n",
      "|----|---------------------|--------------|------------------------------------------|-------------|---------------|-----------------|----------|------------------|--------|-------|--------|-----|-----|-------|\n",
      "| 1  | 11-08-2024 12:25:52 | Advertising  | Dettol Wiggles                           | DETWLW15    | 9 Life MEL 9Life | Australia's Best House | Spot-530645199 | 15 | DY | 0.00 | 0.00 | 0.00 | 0.00 | 0.00 |\n",
      "| 2  | 11-08-2024 18:44:32 | Advertising  | Dettol Wiggles                           | DETWLW15    | 9 Life MEL 9Life | Rugby League Womens | Spot-529051443 | 15 | DY | 0.00 | 0.00 | 0.00 | 0.00 | 0.00 |\n",
      "| 3  | 11-08-2024 20:56:49 | Advertising  | Dettol Wiggles                           | DETWLW15    | 9 Life MEL 9Life | Fixer To Fabulous | Spot-528980466 | 15 | DY | 0.00 | 0.00 | 0.00 | 0.00 | 0.00 |\n",
      "| 4  | 11-08-2024 21:05:59 | Advertising  | Dettol Wiggles                           | DETWLW15    | 9 Life MEL 9Life | Fixer To Fabulous | Spot-529051446 | 15 | DY | 0.00 | 0.00 | 0.00 | 0.00 | 0.00 |\n",
      "| 5  | 11-08-2024 22:03:56 | Advertising  | Dettol Wiggles                           | DETWLW15    | 9 Life MEL 9Life | Fixer To Fabulous | Spot-531268490 | 15 | DY | 0.00 | 0.00 | 0.00 | 0.00 | 0.00 |\n",
      "| 6  | 11-08-2024 20:41:26 | Advertising  | Dettol Wiggles                           | DETWLW15    | 9 Rush MEL 9Rush | Expedition X | Spot-529052007 | 15 | DY | 0.00 | 0.00 | 0.00 | 0.00 | 0.00 |\n",
      "| 7  | 11-08-2024 21:24:08 | Advertising  | Dettol Wiggles                           | DETWLW15    | 9 Rush MEL 9Rush | Expedition X | Spot-529195031 | 15 | DY | 0.00 | 0.00 | 0.00 | 0.00 | 0.00 |\n",
      "| 8  | 11-08-2024 13:51:35 | Advertising  | Dettol Wiggles                           | DETWLW15    | 9 Gol MEL GOI | Rugby League Womens | Spot-531505372 | 15 | DY | 0.00 | 0.00 | 0.00 | 0.00 | 0.00 |\n",
      "| 9  | 11-08-2024 14:31:39 | Advertising  | Dettol Wiggles                           | DETWLW15    | 9 Gol MEL GOI | Rugby League Womens | Spot-530576178 | 15 | DY | 0.00 | 0.00 | 0.00 | 0.00 | 0.00 |\n",
      "| 10 | 11-08-2024 14:38:57 | Advertising  | Dettol Wiggles                           | DETWLW15    | 9 Gol MEL GOI | Rugby League Womens | Spot-530548303 | 15 | DY | 0.00 | 0.00 | 0.00 | 0.00 | 0.00 |\n",
      "```\n",
      "\n",
      "The table is from a tax invoice for Nine Network Australia Pty Ltd, detailing various advertising services for Dettol Wiggles, with dates ranging from 11-08-2024 to 14-08-2024. Each entry includes the ID, delivery date, service type, product/campaign description, key number/reference, location, program/section, spot/page, format size/type, charge, gross, rebate, net, GST, and total. All entries have a charge of 0.00, indicating no cost for these services.\n",
      "Total Time : 113.11\n",
      "\n",
      "\n",
      "\n",
      "\n"
     ]
    },
    {
     "name": "stdin",
     "output_type": "stream",
     "text": [
      "Image Path (comma separated; leave empty if no image):  ./invoice_table.png\n"
     ]
    },
    {
     "name": "stdout",
     "output_type": "stream",
     "text": [
      "Using image: ./invoice_table.png\n"
     ]
    },
    {
     "name": "stdin",
     "output_type": "stream",
     "text": [
      "Prompt:  please extract the table in a json format\n"
     ]
    },
    {
     "name": "stdout",
     "output_type": "stream",
     "text": [
      "Processing images and prompt...\n",
      "Generating response...\n",
      "{\n",
      "  \"Delivery Date\": \"11-08-2024\",\n",
      "  \"Service Type\": \"Advertising\",\n",
      "  \"Advertised Product/Campaign Description\": \"Dettol Wiggles\",\n",
      "  \"Key No./Ref\": \"DETWLW15\",\n",
      "  \"Mast/Location\": \"9 Life MEL 9Life\",\n",
      "  \"Program/Section\": \"Australia's Best House\",\n",
      "  \"Spot/Page\": \"Spot-530645199\",\n",
      "  \"Format Size/Type\": \"15\",\n",
      "  \"Charge\": \"0.00\",\n",
      "  \"Gross\": \"0.00\",\n",
      "  \"Rebate\": \"0.00\",\n",
      "  \"Net\": \"0.00\",\n",
      "  \"GST\": \"0.00\",\n",
      "  \"Total\": \"0.00\"\n",
      "},\n",
      "{\n",
      "  \"Delivery Date\": \"11-08-2024\",\n",
      "  \"Service Type\": \"Advertising\",\n",
      "  \"Advertised Product/Campaign Description\": \"Dettol Wiggles\",\n",
      "  \"Key No./Ref\": \"DETWLW15\",\n",
      "  \"Mast/Location\": \"9 Life MEL 9Life\",\n",
      "  \"Program/Section\": \"Rugby League Womens\",\n",
      "  \"Spot/Page\": \"Spot-529051443\",\n",
      "  \"Format Size/Type\": \"15\",\n",
      "  \"Charge\": \"0.00\",\n",
      "  \"Gross\": \"0.00\",\n",
      "  \"Rebate\": \"0.00\",\n",
      "  \"Net\": \"0.00\",\n",
      "  \"GST\": \"0.00\",\n",
      "  \"Total\": \"0.00\"\n",
      "},\n",
      "{\n",
      "  \"Delivery Date\": \"11-08-2024\",\n",
      "  \"Service Type\": \"Advertising\",\n",
      "  \"Advertised Product/Campaign Description\": \"Dettol Wiggles\",\n",
      "  \"Key No./Ref\": \"DETWLW15\",\n",
      "  \"Mast/Location\": \"9 Life MEL 9Life\",\n",
      "  \"Program/Section\": \"Fixer To Fabulous\",\n",
      "  \"Spot/Page\": \"Spot-528980466\",\n",
      "  \"Format Size/Type\": \"15\",\n",
      "  \"Charge\": \"0.00\",\n",
      "  \"Gross\": \"0.00\",\n",
      "  \"Rebate\": \"0.00\",\n",
      "  \"Net\": \"0.00\",\n",
      "  \"GST\": \"0.00\",\n",
      "  \"Total\": \"0.00\"\n",
      "},\n",
      "{\n",
      "  \"Delivery Date\": \"11-08-2024\",\n",
      "  \"Service Type\": \"Advertising\",\n",
      "  \"Advertised Product/Campaign Description\": \"Dettol Wiggles\",\n",
      "  \"Key No./Ref\": \"DETWLW15\",\n",
      "  \"Mast/Location\": \"9 Life MEL 9Life\",\n",
      "  \"Program/Section\": \"Fixer To Fabulous\",\n",
      "  \"Spot/Page\": \"Spot-529051446\",\n",
      "  \"Format Size/Type\": \"15\",\n",
      "  \"Charge\": \"0.00\",\n",
      "  \"Gross\": \"0.00\",\n",
      "  \"Rebate\": \"0.00\",\n",
      "  \"Net\": \"0.00\",\n",
      "  \"GST\": \"0.00\",\n",
      "  \"Total\": \"0.00\"\n",
      "},\n",
      "{\n",
      "  \"Delivery Date\": \"11-08-2024\",\n",
      "  \"Service Type\": \"Advertising\",\n",
      "  \"Advertised Product/Campaign Description\": \"Dettol Wiggles\",\n",
      "  \"Key No./Ref\": \"DETWLW15\",\n",
      "  \"Mast/Location\": \"9 Life MEL 9Life\",\n",
      "  \"Program/Section\": \"Fixer To Fabulous\",\n",
      "  \"Spot/Page\": \"Spot-531268490\",\n",
      "  \"Format Size/Type\": \"15\",\n",
      "  \"Charge\": \"0.00\",\n",
      "  \"Gross\": \"0.00\",\n",
      "  \"Rebate\": \"0.00\",\n",
      "  \"Net\": \"0.00\",\n",
      "  \"GST\": \"0.00\",\n",
      "  \"Total\": \"0.00\"\n",
      "},\n",
      "{\n",
      "  \"Delivery Date\": \"11-08-2024\",\n",
      "  \"Service Type\": \"Advertising\",\n",
      "  \"Advertised Product/Campaign Description\": \"Dettol Wiggles\",\n",
      "  \"Key No./Ref\": \"DETWLW15\",\n",
      "  \"Mast/Location\": \"9 Rush MEL 9Rush\",\n",
      "  \"Program/Section\": \"Expedition X\",\n",
      "  \"Spot/Page\": \"Spot-529052007\",\n",
      "  \"Format Size/Type\": \"15\",\n",
      "  \"Charge\": \"0.00\",\n",
      "  \"Gross\": \"0.00\",\n",
      "  \"Rebate\": \"0.00\",\n",
      "  \"Net\": \"0.00\",\n",
      "  \"GST\": \"0.00\",\n",
      "  \"Total\": \"0.00\"\n",
      "},\n",
      "{\n",
      "  \"Delivery Date\": \"11-08-2024\",\n",
      "  \"Service Type\": \"Advertising\",\n",
      "  \"Advertised Product/Campaign Description\": \"Dettol Wiggles\",\n",
      "  \"Key No./Ref\": \"DETWLW15\",\n",
      "  \"Mast/Location\": \"9 Rush MEL 9Rush\",\n",
      "  \"Program/Section\": \"Expedition X\",\n",
      "  \"Spot/Page\": \"Spot-529195031\",\n",
      "  \"Format Size/Type\": \"15\",\n",
      "  \"Charge\": \"0.00\",\n",
      "  \"Gross\": \"0.00\",\n",
      "  \"Rebate\": \"0.00\",\n",
      "  \"Net\": \"0.00\",\n",
      "  \"GST\": \"0.00\",\n",
      "  \"Total\": \"0.00\"\n",
      "},\n",
      "{\n",
      "  \"Delivery Date\": \"11-08-2024\",\n",
      "  \"Service Type\": \"Advertising\",\n",
      "  \"Advertised Product/Campaign Description\": \"Dettol Wiggles\",\n",
      "  \"Key No./Ref\": \"DETWLW15\",\n",
      "  \"Mast/Location\": \"9 Gol MEL GOI\",\n",
      "  \"Program/Section\": \"Rugby League Womens\",\n",
      "  \"Spot/Page\": \"Spot-531505372\",\n",
      "  \"Format Size/Type\": \"15\",\n",
      "  \"Charge\": \"0.00\",\n",
      "  \"Gross\": \"0.00\",\n",
      "  \"Rebate\": \"0.00\",\n",
      "  \"Net\": \"0.00\",\n",
      "  \"GST\": \"0.00\",\n",
      "  \"Total\": \"0.00\"\n",
      "},\n",
      "{\n",
      "  \"Delivery Date\": \"11-08-2024\",\n",
      "  \"Service Type\": \"Advertising\",\n",
      "  \"Advertised Product/Campaign Description\": \"Dettol Wiggles\",\n",
      "  \"Key No./Ref\": \"DETWLW15\",\n",
      "  \"Mast/Location\": \"9 Gol MEL GOI\",\n",
      "  \"Program/Section\": \"Rugby League Womens\",\n",
      "  \"Spot/Page\": \"Spot-530576178\",\n",
      "  \"Format Size/Type\": \"15\",\n",
      "  \"Charge\": \"0.00\",\n",
      "  \"Gross\": \"0.00\",\n",
      "  \"Rebate\": \"0.00\",\n",
      "  \"Net\": \"0.00\",\n",
      "  \"GST\": \"0.00\",\n",
      "  \"Total\": \"0.00\"\n",
      "},\n",
      "{\n",
      "  \"Delivery Date\": \"11-08-2024\",\n",
      "  \"Service Type\": \"Advertising\",\n",
      "  \"Advertised Product/Campaign Description\": \"Dettol Wiggles\",\n",
      "  \"Key No./Ref\": \"DETWLW15\",\n",
      "  \"Mast/Location\": \"9 Gol MEL GOI\",\n",
      "  \"Program/Section\": \"Rugby League Womens\",\n",
      "  \"Spot/Page\": \"Spot-530548303\",\n",
      "  \"Format Size/Type\": \"15\",\n",
      "  \"Charge\": \"0.00\",\n",
      "  \"Gross\": \"0.00\",\n",
      "  \"Rebate\": \"0.00\",\n",
      "  \"Net\": \"0.00\",\n",
      "  \"GST\": \"0.00\",\n",
      "  \"Total\": \"0.00\"\n",
      "}\n",
      "\n",
      "Total Time : 159.76\n",
      "\n",
      "\n",
      "\n",
      "\n"
     ]
    }
   ],
   "source": [
    "import phi3v  # Assurez-vous que phi3v.py est dans le même répertoire que votre notebook\n",
    "\n",
    "from argparse import Namespace\n",
    "\n",
    "args = Namespace(\n",
    "    model_path=\"cpu_and_mobile/cpu-int4-rtn-block-32-acc-level-4\",\n",
    "    provider=\"cpu\",\n",
    "    image_paths=None,\n",
    "    prompt=None,\n",
    "    non_interactive=False\n",
    ")\n",
    "phi3v.run(args)\n"
   ]
  },
  {
   "cell_type": "code",
   "execution_count": null,
   "id": "88bfc602-2abf-4771-be4f-d295074f1a28",
   "metadata": {},
   "outputs": [],
   "source": []
  },
  {
   "cell_type": "code",
   "execution_count": null,
   "id": "10edc2ca-1ae7-447c-97cc-471715fae297",
   "metadata": {},
   "outputs": [],
   "source": []
  },
  {
   "cell_type": "code",
   "execution_count": null,
   "id": "d9016d32-7ed0-4a71-b047-90d8107bca3c",
   "metadata": {},
   "outputs": [],
   "source": []
  },
  {
   "cell_type": "code",
   "execution_count": null,
   "id": "dc110b54-cbd0-4e85-9a72-d7f45e833822",
   "metadata": {},
   "outputs": [],
   "source": []
  },
  {
   "cell_type": "code",
   "execution_count": null,
   "id": "99d50ef7-3aa2-4f07-a32a-cc4a50d0f2de",
   "metadata": {},
   "outputs": [],
   "source": []
  }
 ],
 "metadata": {
  "kernelspec": {
   "display_name": "phi3-5-vision-onnx",
   "language": "python",
   "name": "phi3-5-cpu-onnx"
  },
  "language_info": {
   "codemirror_mode": {
    "name": "ipython",
    "version": 3
   },
   "file_extension": ".py",
   "mimetype": "text/x-python",
   "name": "python",
   "nbconvert_exporter": "python",
   "pygments_lexer": "ipython3",
   "version": "3.10.15"
  }
 },
 "nbformat": 4,
 "nbformat_minor": 5
}
